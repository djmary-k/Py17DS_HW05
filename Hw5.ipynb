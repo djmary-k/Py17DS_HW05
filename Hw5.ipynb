{
  "nbformat": 4,
  "nbformat_minor": 0,
  "metadata": {
    "colab": {
      "provenance": [],
      "authorship_tag": "ABX9TyOpoi8f+RHsmGhS6kpCeHA6",
      "include_colab_link": true
    },
    "kernelspec": {
      "name": "python3",
      "display_name": "Python 3"
    },
    "language_info": {
      "name": "python"
    }
  },
  "cells": [
    {
      "cell_type": "markdown",
      "metadata": {
        "id": "view-in-github",
        "colab_type": "text"
      },
      "source": [
        "<a href=\"https://colab.research.google.com/github/djmary-k/Py17DS_HW05/blob/main/Hw5.ipynb\" target=\"_parent\"><img src=\"https://colab.research.google.com/assets/colab-badge.svg\" alt=\"Open In Colab\"/></a>"
      ]
    },
    {
      "cell_type": "markdown",
      "source": [
        "# Homework 5\n",
        "## Support Vector Machine (SVM), Decision Trees and Random Forests.\n",
        "За даними акселерометра з мобільного телефону потрібно класифікувати, якою діяльністю займається людина: йде, стоїть, біжить чи йде по сходах. Даний датасет homework.zip.\n",
        "\n",
        "Використайте алгоритми SVM та випадковий ліс з бібліотеки scikit-learn. Як характеристики можете брати показники з акселерометра, проте щоб покращити результати роботи алгоритмів, спочатку можна підготувати наш датасет і розрахувати часові ознаки (time domain features).\n",
        "\n",
        "Порівняйте результати роботи обох алгоритмів на різних фічах та різні моделі між собою. Використайте метод classification report для порівняння.\n"
      ],
      "metadata": {
        "id": "ccub3mEZrwyE"
      }
    },
    {
      "cell_type": "code",
      "execution_count": null,
      "metadata": {
        "id": "FdbPmE2drTov"
      },
      "outputs": [],
      "source": [
        "import zipfile\n",
        "import os\n",
        "import pandas as pd\n",
        "import numpy as np\n",
        "\n",
        "from sklearn.model_selection import train_test_split\n",
        "from sklearn.preprocessing import StandardScaler\n",
        "from sklearn.svm import SVC\n",
        "from sklearn.ensemble import RandomForestClassifier\n",
        "from sklearn.metrics import classification_report, accuracy_score, ConfusionMatrixDisplay"
      ]
    },
    {
      "cell_type": "code",
      "source": [
        "from google.colab import drive\n",
        "drive.mount('/content/drive')"
      ],
      "metadata": {
        "colab": {
          "base_uri": "https://localhost:8080/"
        },
        "id": "Meh0RZBrxxVm",
        "outputId": "7484abb0-8e70-411b-e3fa-c100b9a1df9c"
      },
      "execution_count": null,
      "outputs": [
        {
          "output_type": "stream",
          "name": "stdout",
          "text": [
            "Mounted at /content/drive\n"
          ]
        }
      ]
    },
    {
      "cell_type": "code",
      "source": [
        "# Розарпаковка архіву. Переведення даних з файлів .csv у словник датасетів.\n",
        "\n",
        "zip_file_path = '/content/drive/MyDrive/Colab Notebooks/homework.zip'\n",
        "\n",
        "with zipfile.ZipFile(zip_file_path, 'r') as zip_ref:\n",
        "    zip_ref.extractall()\n",
        "\n",
        "data_folder = 'data'\n",
        "\n",
        "subdirectories = [subdir for subdir in os.listdir(data_folder) if os.path.isdir(os.path.join(data_folder, subdir))]\n",
        "print(subdirectories)\n",
        "dataframes = {}\n",
        "\n",
        "for subdir in subdirectories:\n",
        "    subdir_path = os.path.join(data_folder, subdir)\n",
        "    files = os.listdir(subdir_path)\n",
        "\n",
        "    df = pd.DataFrame()\n",
        "\n",
        "    for file in files:\n",
        "        if file.endswith('.csv'):\n",
        "            file_path = os.path.join(subdir_path, file)\n",
        "            data = pd.read_csv(file_path)\n",
        "            df = pd.concat([df, data], ignore_index=True)\n",
        "\n",
        "    dataframes[subdir] = df\n",
        "\n",
        "for subdir, df in dataframes.items():\n",
        "    print(f\"Dataframe for {subdir}:\")\n",
        "    print(df.head())"
      ],
      "metadata": {
        "colab": {
          "base_uri": "https://localhost:8080/"
        },
        "id": "XNOgERSEwMJM",
        "outputId": "dec37143-e236-4e05-e3c8-96e8ab04655e"
      },
      "execution_count": null,
      "outputs": [
        {
          "output_type": "stream",
          "name": "stdout",
          "text": [
            "['idle', 'running', 'walking', 'stairs']\n",
            "Dataframe for idle:\n",
            "   accelerometer_X  accelerometer_Y  accelerometer_Z\n",
            "0        -0.435745         5.837064         9.792285\n",
            "1         0.239420         5.669470         8.020576\n",
            "2         0.407014         5.276821         8.025364\n",
            "3        -0.057461         5.506664         8.149863\n",
            "4         0.679953         6.057330         8.264784\n",
            "Dataframe for running:\n",
            "   accelerometer_X  accelerometer_Y  accelerometer_Z\n",
            "0        -3.696647         4.419697        -1.814805\n",
            "1        -1.541866       -11.042058        -8.231265\n",
            "2        14.829685        33.154903         3.979163\n",
            "3        -4.735731        14.302961         1.182736\n",
            "4         6.287174       -13.311762        -4.137180\n",
            "Dataframe for walking:\n",
            "   accelerometer_X  accelerometer_Y  accelerometer_Z\n",
            "0        -1.182736        -8.441956        -1.450886\n",
            "1        -6.086060       -12.473791        -3.610456\n",
            "2        -3.754108        -0.076614        -3.308787\n",
            "3        -5.137956       -13.843274        -2.796427\n",
            "4       -14.844050       -14.092271       -19.129671\n",
            "Dataframe for stairs:\n",
            "   accelerometer_X  accelerometer_Y  accelerometer_Z\n",
            "0         0.483629        -8.561666        -3.653552\n",
            "1         8.216900       -11.386824        -0.100556\n",
            "2        -0.124498        -9.442732        -0.842759\n",
            "3         2.657564       -10.381259         0.665588\n",
            "4         1.383849       -16.093824        -1.479617\n"
          ]
        }
      ]
    },
    {
      "cell_type": "code",
      "source": [
        "# Додавання до кожного датасету стовпця, що відповідає дії: 0 - 'idle', 1 - 'running', 2 - 'walking', 3 - 'stairs'.\n",
        "# Обєднання всіх датасетів у один датафрейм\n",
        "scaler = StandardScaler()\n",
        "\n",
        "\n",
        "for index, (subdir, df) in enumerate(dataframes.items()):\n",
        "    df['Action'] = index\n",
        "    dataframes[subdir] = df\n",
        "\n",
        "merged_df = pd.concat(dataframes.values(), ignore_index=True)\n",
        "print(merged_df)"
      ],
      "metadata": {
        "colab": {
          "base_uri": "https://localhost:8080/"
        },
        "id": "c3I4azHxwSdZ",
        "outputId": "e25909e6-ebd1-4ba1-e3c4-1ca3a14ba825"
      },
      "execution_count": null,
      "outputs": [
        {
          "output_type": "stream",
          "name": "stdout",
          "text": [
            "        accelerometer_X  accelerometer_Y  accelerometer_Z  Action\n",
            "0             -0.435745         5.837064         9.792285       0\n",
            "1              0.239420         5.669470         8.020576       0\n",
            "2              0.407014         5.276821         8.025364       0\n",
            "3             -0.057461         5.506664         8.149863       0\n",
            "4              0.679953         6.057330         8.264784       0\n",
            "...                 ...              ...              ...     ...\n",
            "193855        -1.948880        -3.064578        -2.513912       3\n",
            "193856         1.225831        -5.554548        -2.317587       3\n",
            "193857         0.210690       -10.802638        -1.599327       3\n",
            "193858         2.738967        -8.657434         4.031836       3\n",
            "193859         4.094085       -11.401189        -0.651223       3\n",
            "\n",
            "[193860 rows x 4 columns]\n"
          ]
        }
      ]
    },
    {
      "cell_type": "code",
      "source": [
        "# Нормалізація за допомогою StandardScaler\n",
        "scaler = StandardScaler()\n",
        "\n",
        "# Нормалізуємо дані, крім стовпця \"Action\"\n",
        "normalized_data = merged_df.drop(columns=['Action'])\n",
        "normalized_data = scaler.fit_transform(normalized_data)\n",
        "\n",
        "# Створюємо DataFrame з нормалізованими даними\n",
        "normalized_df = pd.DataFrame(normalized_data, columns=merged_df.columns[:-1])  # без стовпця \"Action\"\n",
        "\n",
        "# Додаємо стовпець \"Action\" зі списку\n",
        "normalized_df['Action'] = merged_df['Action']\n",
        "\n",
        "print(normalized_df)"
      ],
      "metadata": {
        "colab": {
          "base_uri": "https://localhost:8080/"
        },
        "id": "CtIHm_ibzdM5",
        "outputId": "5d62eb8b-4f76-45ac-fb04-33ee1707c949"
      },
      "execution_count": null,
      "outputs": [
        {
          "output_type": "stream",
          "name": "stdout",
          "text": [
            "        accelerometer_X  accelerometer_Y  accelerometer_Z  Action\n",
            "0             -0.280706         0.339804         1.110660       0\n",
            "1             -0.200376         0.326369         0.864301       0\n",
            "2             -0.180436         0.294891         0.864966       0\n",
            "3             -0.235699         0.313317         0.882278       0\n",
            "4             -0.147962         0.357462         0.898258       0\n",
            "...                 ...              ...              ...     ...\n",
            "193855        -0.460738        -0.373811        -0.600537       3\n",
            "193856        -0.083014        -0.573424        -0.573238       3\n",
            "193857        -0.203794        -0.994146        -0.473363       3\n",
            "193858         0.097018        -0.822172         0.309660       3\n",
            "193859         0.258248        -1.042129        -0.341527       3\n",
            "\n",
            "[193860 rows x 4 columns]\n"
          ]
        }
      ]
    },
    {
      "cell_type": "code",
      "source": [
        "# Визначення списку індексів для початкових індексів кожного сегмента.\n",
        "# Поділ даних на сегменти та розрахнок часових ознак для кожного сегмента.\n",
        "# Створенння нового датафрейму, який містить часові ознаки для кожного сегмента разом з відповідними мітками класів.\n",
        "\n",
        "# Крок переміщення між сегментами (50% перекриття)\n",
        "segment_size = 208\n",
        "step_size = int(segment_size / 2)\n",
        "\n",
        "# Створення списку індексів для початкових індексів кожного сегмента\n",
        "start_indexes = list(range(0, len(normalized_df), step_size))"
      ],
      "metadata": {
        "id": "PBN9RqT00WLT"
      },
      "execution_count": null,
      "outputs": []
    },
    {
      "cell_type": "code",
      "source": [
        "# Список для збереження часових ознак для кожного сегмента\n",
        "time_domain_features = []\n",
        "\n",
        "# Проходимося по кожному початковому індексу кожного сегмента\n",
        "for start_index in start_indexes:\n",
        "    # Визначаємо кінець поточного сегмента\n",
        "    end_index = start_index + segment_size\n",
        "    # Вибираємо дані для поточного сегмента\n",
        "    segment_data = normalized_df.iloc[start_index:end_index, :-1]  # без стовпця \"Action\"\n",
        "\n",
        "    # Розраховуємо часові ознаки для поточного сегмента\n",
        "    segment_features = {\n",
        "        'mean_x': segment_data['accelerometer_X'].mean(),\n",
        "        'mean_y': segment_data['accelerometer_Y'].mean(),\n",
        "        'mean_z': segment_data['accelerometer_Z'].mean(),\n",
        "        'std_x': segment_data['accelerometer_X'].std(),\n",
        "        'std_y': segment_data['accelerometer_Y'].std(),\n",
        "        'std_z': segment_data['accelerometer_Z'].std(),\n",
        "        'min_x': segment_data['accelerometer_X'].min(),\n",
        "        'min_y': segment_data['accelerometer_Y'].min(),\n",
        "        'min_z': segment_data['accelerometer_Z'].min(),\n",
        "        'max_x': segment_data['accelerometer_X'].max(),\n",
        "        'max_y': segment_data['accelerometer_Y'].max(),\n",
        "        'max_z': segment_data['accelerometer_Z'].max(),\n",
        "        'median_x': segment_data['accelerometer_X'].median(),\n",
        "        'median_y': segment_data['accelerometer_Y'].median(),\n",
        "        'median_z': segment_data['accelerometer_Z'].median(),\n",
        "        '25th_percentile_x': segment_data['accelerometer_X'].quantile(0.25),\n",
        "        '25th_percentile_y': segment_data['accelerometer_Y'].quantile(0.25),\n",
        "        '25th_percentile_z': segment_data['accelerometer_Z'].quantile(0.25),\n",
        "        '75th_percentile_x': segment_data['accelerometer_X'].quantile(0.75),\n",
        "        '75th_percentile_y': segment_data['accelerometer_Y'].quantile(0.75),\n",
        "        '75th_percentile_z': segment_data['accelerometer_Z'].quantile(0.75),\n",
        "        'rms_x': np.sqrt(np.mean(segment_data['accelerometer_X'] ** 2)),\n",
        "        'rms_y': np.sqrt(np.mean(segment_data['accelerometer_Y'] ** 2)),\n",
        "        'rms_z': np.sqrt(np.mean(segment_data['accelerometer_Z'] ** 2)),\n",
        "        'mean': np.mean([segment_data['accelerometer_X'].mean(),\n",
        "                         segment_data['accelerometer_Y'].mean(),\n",
        "                         segment_data['accelerometer_Z'].mean()]),\n",
        "        'std': np.mean([segment_data['accelerometer_X'].std(),\n",
        "                        segment_data['accelerometer_Y'].std(),\n",
        "                        segment_data['accelerometer_Z'].std()]),\n",
        "        'min': np.mean([segment_data['accelerometer_X'].min(),\n",
        "                        segment_data['accelerometer_Y'].min(),\n",
        "                        segment_data['accelerometer_Z'].min()]),\n",
        "        'max': np.mean([segment_data['accelerometer_X'].max(),\n",
        "                        segment_data['accelerometer_Y'].max(),\n",
        "                        segment_data['accelerometer_Z'].max()]),\n",
        "        'median': np.mean([segment_data['accelerometer_X'].median(),\n",
        "                           segment_data['accelerometer_Y'].median(),\n",
        "                           segment_data['accelerometer_Z'].median()]),\n",
        "        '25th_percentile': np.mean([segment_data['accelerometer_X'].quantile(0.25),\n",
        "                                    segment_data['accelerometer_Y'].quantile(0.25),\n",
        "                                    segment_data['accelerometer_Z'].quantile(0.25)]),\n",
        "        '75th_percentile': np.mean([segment_data['accelerometer_X'].quantile(0.75),\n",
        "                                    segment_data['accelerometer_Y'].quantile(0.75),\n",
        "                                    segment_data['accelerometer_Z'].quantile(0.75)]),\n",
        "        'rms': np.mean([np.sqrt(np.mean(segment_data['accelerometer_X'] ** 2)),\n",
        "                        np.sqrt(np.mean(segment_data['accelerometer_Y'] ** 2)),\n",
        "                        np.sqrt(np.mean(segment_data['accelerometer_Z'] ** 2))])\n",
        "    }\n",
        "\n",
        "    # Додаємо часові ознаки до списку\n",
        "    time_domain_features.append(segment_features)\n",
        "\n",
        "# Створюємо DataFrame з часовими ознаками\n",
        "time_domain_df = pd.DataFrame(time_domain_features)\n",
        "\n",
        "# Додаємо стовпець \"Action\" зі списку індексів\n",
        "time_domain_df['Action'] = normalized_df['Action'].iloc[::step_size].values\n",
        "\n",
        "print(time_domain_df.head())\n"
      ],
      "metadata": {
        "colab": {
          "base_uri": "https://localhost:8080/"
        },
        "id": "k-EhkG_M0vPH",
        "outputId": "099902cd-12b7-4bd6-cd96-3ca9c4dbaca0"
      },
      "execution_count": null,
      "outputs": [
        {
          "output_type": "stream",
          "name": "stdout",
          "text": [
            "     mean_x    mean_y    mean_z     std_x     std_y     std_z     min_x  \\\n",
            "0 -0.221924  0.228689  0.859624  0.074071  0.231569  0.197380 -0.574112   \n",
            "1 -0.219319  0.107648  0.929588  0.068048  0.270927  0.213425 -0.574112   \n",
            "2 -0.225411  0.081166  0.977758  0.059370  0.242120  0.172047 -0.408893   \n",
            "3 -0.212828 -0.008080  1.043567  0.105837  0.192321  0.117118 -0.900561   \n",
            "4 -0.198215 -0.079294  1.079145  0.110948  0.133413  0.115175 -0.900561   \n",
            "\n",
            "      min_y     min_z     max_x  ...     rms_z      mean       std       min  \\\n",
            "0 -0.270550  0.225099  0.063404  ...  0.881887  0.288796  0.167673 -0.206521   \n",
            "1 -0.270550  0.395552  0.011560  ...  0.953659  0.272639  0.184134 -0.149703   \n",
            "2 -0.138882  0.570667  0.011560  ...  0.992708  0.277838  0.157846  0.007631   \n",
            "3 -0.333505  0.643909  0.739091  ...  1.050087  0.274220  0.138426 -0.196719   \n",
            "4 -0.333505  0.091932  0.739091  ...  1.085244  0.267212  0.119845 -0.380711   \n",
            "\n",
            "        max    median  25th_percentile  75th_percentile       rms  Action  \n",
            "0  0.566235  0.314170         0.111457         0.439653  0.480284       0  \n",
            "1  0.548953  0.255831         0.107984         0.445740  0.491389       0  \n",
            "2  0.597264  0.262581         0.153490         0.415604  0.493527       0  \n",
            "3  0.833632  0.259193         0.216377         0.365631  0.493231       0  \n",
            "4  0.846886  0.259951         0.256317         0.269266  0.489063       0  \n",
            "\n",
            "[5 rows x 33 columns]\n"
          ]
        }
      ]
    },
    {
      "cell_type": "code",
      "source": [
        "time_domain_df.head(1)"
      ],
      "metadata": {
        "colab": {
          "base_uri": "https://localhost:8080/",
          "height": 130
        },
        "id": "qdAC4OMB1c2L",
        "outputId": "98aa8b71-3a09-48b1-9fb7-87a450f5e6e4"
      },
      "execution_count": null,
      "outputs": [
        {
          "output_type": "execute_result",
          "data": {
            "text/plain": [
              "     mean_x    mean_y    mean_z     std_x     std_y    std_z     min_x  \\\n",
              "0 -0.221924  0.228689  0.859624  0.074071  0.231569  0.19738 -0.574112   \n",
              "\n",
              "     min_y     min_z     max_x  ...     rms_z      mean       std       min  \\\n",
              "0 -0.27055  0.225099  0.063404  ...  0.881887  0.288796  0.167673 -0.206521   \n",
              "\n",
              "        max   median  25th_percentile  75th_percentile       rms  Action  \n",
              "0  0.566235  0.31417         0.111457         0.439653  0.480284       0  \n",
              "\n",
              "[1 rows x 33 columns]"
            ],
            "text/html": [
              "\n",
              "  <div id=\"df-49f2f04a-b72f-471b-977c-d52168baab2b\" class=\"colab-df-container\">\n",
              "    <div>\n",
              "<style scoped>\n",
              "    .dataframe tbody tr th:only-of-type {\n",
              "        vertical-align: middle;\n",
              "    }\n",
              "\n",
              "    .dataframe tbody tr th {\n",
              "        vertical-align: top;\n",
              "    }\n",
              "\n",
              "    .dataframe thead th {\n",
              "        text-align: right;\n",
              "    }\n",
              "</style>\n",
              "<table border=\"1\" class=\"dataframe\">\n",
              "  <thead>\n",
              "    <tr style=\"text-align: right;\">\n",
              "      <th></th>\n",
              "      <th>mean_x</th>\n",
              "      <th>mean_y</th>\n",
              "      <th>mean_z</th>\n",
              "      <th>std_x</th>\n",
              "      <th>std_y</th>\n",
              "      <th>std_z</th>\n",
              "      <th>min_x</th>\n",
              "      <th>min_y</th>\n",
              "      <th>min_z</th>\n",
              "      <th>max_x</th>\n",
              "      <th>...</th>\n",
              "      <th>rms_z</th>\n",
              "      <th>mean</th>\n",
              "      <th>std</th>\n",
              "      <th>min</th>\n",
              "      <th>max</th>\n",
              "      <th>median</th>\n",
              "      <th>25th_percentile</th>\n",
              "      <th>75th_percentile</th>\n",
              "      <th>rms</th>\n",
              "      <th>Action</th>\n",
              "    </tr>\n",
              "  </thead>\n",
              "  <tbody>\n",
              "    <tr>\n",
              "      <th>0</th>\n",
              "      <td>-0.221924</td>\n",
              "      <td>0.228689</td>\n",
              "      <td>0.859624</td>\n",
              "      <td>0.074071</td>\n",
              "      <td>0.231569</td>\n",
              "      <td>0.19738</td>\n",
              "      <td>-0.574112</td>\n",
              "      <td>-0.27055</td>\n",
              "      <td>0.225099</td>\n",
              "      <td>0.063404</td>\n",
              "      <td>...</td>\n",
              "      <td>0.881887</td>\n",
              "      <td>0.288796</td>\n",
              "      <td>0.167673</td>\n",
              "      <td>-0.206521</td>\n",
              "      <td>0.566235</td>\n",
              "      <td>0.31417</td>\n",
              "      <td>0.111457</td>\n",
              "      <td>0.439653</td>\n",
              "      <td>0.480284</td>\n",
              "      <td>0</td>\n",
              "    </tr>\n",
              "  </tbody>\n",
              "</table>\n",
              "<p>1 rows × 33 columns</p>\n",
              "</div>\n",
              "    <div class=\"colab-df-buttons\">\n",
              "\n",
              "  <div class=\"colab-df-container\">\n",
              "    <button class=\"colab-df-convert\" onclick=\"convertToInteractive('df-49f2f04a-b72f-471b-977c-d52168baab2b')\"\n",
              "            title=\"Convert this dataframe to an interactive table.\"\n",
              "            style=\"display:none;\">\n",
              "\n",
              "  <svg xmlns=\"http://www.w3.org/2000/svg\" height=\"24px\" viewBox=\"0 -960 960 960\">\n",
              "    <path d=\"M120-120v-720h720v720H120Zm60-500h600v-160H180v160Zm220 220h160v-160H400v160Zm0 220h160v-160H400v160ZM180-400h160v-160H180v160Zm440 0h160v-160H620v160ZM180-180h160v-160H180v160Zm440 0h160v-160H620v160Z\"/>\n",
              "  </svg>\n",
              "    </button>\n",
              "\n",
              "  <style>\n",
              "    .colab-df-container {\n",
              "      display:flex;\n",
              "      gap: 12px;\n",
              "    }\n",
              "\n",
              "    .colab-df-convert {\n",
              "      background-color: #E8F0FE;\n",
              "      border: none;\n",
              "      border-radius: 50%;\n",
              "      cursor: pointer;\n",
              "      display: none;\n",
              "      fill: #1967D2;\n",
              "      height: 32px;\n",
              "      padding: 0 0 0 0;\n",
              "      width: 32px;\n",
              "    }\n",
              "\n",
              "    .colab-df-convert:hover {\n",
              "      background-color: #E2EBFA;\n",
              "      box-shadow: 0px 1px 2px rgba(60, 64, 67, 0.3), 0px 1px 3px 1px rgba(60, 64, 67, 0.15);\n",
              "      fill: #174EA6;\n",
              "    }\n",
              "\n",
              "    .colab-df-buttons div {\n",
              "      margin-bottom: 4px;\n",
              "    }\n",
              "\n",
              "    [theme=dark] .colab-df-convert {\n",
              "      background-color: #3B4455;\n",
              "      fill: #D2E3FC;\n",
              "    }\n",
              "\n",
              "    [theme=dark] .colab-df-convert:hover {\n",
              "      background-color: #434B5C;\n",
              "      box-shadow: 0px 1px 3px 1px rgba(0, 0, 0, 0.15);\n",
              "      filter: drop-shadow(0px 1px 2px rgba(0, 0, 0, 0.3));\n",
              "      fill: #FFFFFF;\n",
              "    }\n",
              "  </style>\n",
              "\n",
              "    <script>\n",
              "      const buttonEl =\n",
              "        document.querySelector('#df-49f2f04a-b72f-471b-977c-d52168baab2b button.colab-df-convert');\n",
              "      buttonEl.style.display =\n",
              "        google.colab.kernel.accessAllowed ? 'block' : 'none';\n",
              "\n",
              "      async function convertToInteractive(key) {\n",
              "        const element = document.querySelector('#df-49f2f04a-b72f-471b-977c-d52168baab2b');\n",
              "        const dataTable =\n",
              "          await google.colab.kernel.invokeFunction('convertToInteractive',\n",
              "                                                    [key], {});\n",
              "        if (!dataTable) return;\n",
              "\n",
              "        const docLinkHtml = 'Like what you see? Visit the ' +\n",
              "          '<a target=\"_blank\" href=https://colab.research.google.com/notebooks/data_table.ipynb>data table notebook</a>'\n",
              "          + ' to learn more about interactive tables.';\n",
              "        element.innerHTML = '';\n",
              "        dataTable['output_type'] = 'display_data';\n",
              "        await google.colab.output.renderOutput(dataTable, element);\n",
              "        const docLink = document.createElement('div');\n",
              "        docLink.innerHTML = docLinkHtml;\n",
              "        element.appendChild(docLink);\n",
              "      }\n",
              "    </script>\n",
              "  </div>\n",
              "\n",
              "\n",
              "    </div>\n",
              "  </div>\n"
            ],
            "application/vnd.google.colaboratory.intrinsic+json": {
              "type": "dataframe",
              "variable_name": "time_domain_df"
            }
          },
          "metadata": {},
          "execution_count": 12
        }
      ]
    },
    {
      "cell_type": "code",
      "source": [
        "# Розділення датасету на навчальний і тестовий.\n",
        "from sklearn.model_selection import train_test_split\n",
        "\n",
        "X = time_domain_df.drop(columns=['Action'])\n",
        "y = time_domain_df['Action']\n",
        "# Розділення даних у співвідношенні 80% для навчання та 20% для тестування\n",
        "X_train, X_test, y_train, y_test = train_test_split(X, y, test_size=0.2, random_state=42)\n",
        "\n",
        "print('Traine dataset size:', X_train.shape, y_train.shape)\n",
        "print('Test dataset size:', X_test.shape, y_test.shape)\n",
        "\n"
      ],
      "metadata": {
        "colab": {
          "base_uri": "https://localhost:8080/"
        },
        "id": "klj7_4u-1p6U",
        "outputId": "08e3f832-9241-4518-c2cd-9753f5980517"
      },
      "execution_count": null,
      "outputs": [
        {
          "output_type": "stream",
          "name": "stdout",
          "text": [
            "Traine dataset size: (1492, 32) (1492,)\n",
            "Test dataset size: (373, 32) (373,)\n"
          ]
        }
      ]
    },
    {
      "cell_type": "code",
      "source": [
        "# Застосовуємо метод Support Vector Machine для тренування моделі\n",
        "svc_linear_clf = SVC(kernel='linear', C=1.0, random_state=42)\n",
        "svc_linear_clf.fit(X_train, y_train)"
      ],
      "metadata": {
        "colab": {
          "base_uri": "https://localhost:8080/",
          "height": 74
        },
        "id": "5Ud1sToeRYLi",
        "outputId": "cef1916a-c7b6-465d-ea34-5853d1f82441"
      },
      "execution_count": null,
      "outputs": [
        {
          "output_type": "execute_result",
          "data": {
            "text/plain": [
              "SVC(kernel='linear', random_state=42)"
            ],
            "text/html": [
              "<style>#sk-container-id-1 {color: black;background-color: white;}#sk-container-id-1 pre{padding: 0;}#sk-container-id-1 div.sk-toggleable {background-color: white;}#sk-container-id-1 label.sk-toggleable__label {cursor: pointer;display: block;width: 100%;margin-bottom: 0;padding: 0.3em;box-sizing: border-box;text-align: center;}#sk-container-id-1 label.sk-toggleable__label-arrow:before {content: \"▸\";float: left;margin-right: 0.25em;color: #696969;}#sk-container-id-1 label.sk-toggleable__label-arrow:hover:before {color: black;}#sk-container-id-1 div.sk-estimator:hover label.sk-toggleable__label-arrow:before {color: black;}#sk-container-id-1 div.sk-toggleable__content {max-height: 0;max-width: 0;overflow: hidden;text-align: left;background-color: #f0f8ff;}#sk-container-id-1 div.sk-toggleable__content pre {margin: 0.2em;color: black;border-radius: 0.25em;background-color: #f0f8ff;}#sk-container-id-1 input.sk-toggleable__control:checked~div.sk-toggleable__content {max-height: 200px;max-width: 100%;overflow: auto;}#sk-container-id-1 input.sk-toggleable__control:checked~label.sk-toggleable__label-arrow:before {content: \"▾\";}#sk-container-id-1 div.sk-estimator input.sk-toggleable__control:checked~label.sk-toggleable__label {background-color: #d4ebff;}#sk-container-id-1 div.sk-label input.sk-toggleable__control:checked~label.sk-toggleable__label {background-color: #d4ebff;}#sk-container-id-1 input.sk-hidden--visually {border: 0;clip: rect(1px 1px 1px 1px);clip: rect(1px, 1px, 1px, 1px);height: 1px;margin: -1px;overflow: hidden;padding: 0;position: absolute;width: 1px;}#sk-container-id-1 div.sk-estimator {font-family: monospace;background-color: #f0f8ff;border: 1px dotted black;border-radius: 0.25em;box-sizing: border-box;margin-bottom: 0.5em;}#sk-container-id-1 div.sk-estimator:hover {background-color: #d4ebff;}#sk-container-id-1 div.sk-parallel-item::after {content: \"\";width: 100%;border-bottom: 1px solid gray;flex-grow: 1;}#sk-container-id-1 div.sk-label:hover label.sk-toggleable__label {background-color: #d4ebff;}#sk-container-id-1 div.sk-serial::before {content: \"\";position: absolute;border-left: 1px solid gray;box-sizing: border-box;top: 0;bottom: 0;left: 50%;z-index: 0;}#sk-container-id-1 div.sk-serial {display: flex;flex-direction: column;align-items: center;background-color: white;padding-right: 0.2em;padding-left: 0.2em;position: relative;}#sk-container-id-1 div.sk-item {position: relative;z-index: 1;}#sk-container-id-1 div.sk-parallel {display: flex;align-items: stretch;justify-content: center;background-color: white;position: relative;}#sk-container-id-1 div.sk-item::before, #sk-container-id-1 div.sk-parallel-item::before {content: \"\";position: absolute;border-left: 1px solid gray;box-sizing: border-box;top: 0;bottom: 0;left: 50%;z-index: -1;}#sk-container-id-1 div.sk-parallel-item {display: flex;flex-direction: column;z-index: 1;position: relative;background-color: white;}#sk-container-id-1 div.sk-parallel-item:first-child::after {align-self: flex-end;width: 50%;}#sk-container-id-1 div.sk-parallel-item:last-child::after {align-self: flex-start;width: 50%;}#sk-container-id-1 div.sk-parallel-item:only-child::after {width: 0;}#sk-container-id-1 div.sk-dashed-wrapped {border: 1px dashed gray;margin: 0 0.4em 0.5em 0.4em;box-sizing: border-box;padding-bottom: 0.4em;background-color: white;}#sk-container-id-1 div.sk-label label {font-family: monospace;font-weight: bold;display: inline-block;line-height: 1.2em;}#sk-container-id-1 div.sk-label-container {text-align: center;}#sk-container-id-1 div.sk-container {/* jupyter's `normalize.less` sets `[hidden] { display: none; }` but bootstrap.min.css set `[hidden] { display: none !important; }` so we also need the `!important` here to be able to override the default hidden behavior on the sphinx rendered scikit-learn.org. See: https://github.com/scikit-learn/scikit-learn/issues/21755 */display: inline-block !important;position: relative;}#sk-container-id-1 div.sk-text-repr-fallback {display: none;}</style><div id=\"sk-container-id-1\" class=\"sk-top-container\"><div class=\"sk-text-repr-fallback\"><pre>SVC(kernel=&#x27;linear&#x27;, random_state=42)</pre><b>In a Jupyter environment, please rerun this cell to show the HTML representation or trust the notebook. <br />On GitHub, the HTML representation is unable to render, please try loading this page with nbviewer.org.</b></div><div class=\"sk-container\" hidden><div class=\"sk-item\"><div class=\"sk-estimator sk-toggleable\"><input class=\"sk-toggleable__control sk-hidden--visually\" id=\"sk-estimator-id-1\" type=\"checkbox\" checked><label for=\"sk-estimator-id-1\" class=\"sk-toggleable__label sk-toggleable__label-arrow\">SVC</label><div class=\"sk-toggleable__content\"><pre>SVC(kernel=&#x27;linear&#x27;, random_state=42)</pre></div></div></div></div></div>"
            ]
          },
          "metadata": {},
          "execution_count": 17
        }
      ]
    },
    {
      "cell_type": "code",
      "source": [
        "# Прогнозування та оцінка моделі\n",
        "y_predict_svc = svc_linear_clf.predict(X_test)\n",
        "\n",
        "print(f\"accuracy score on training sample = {accuracy_score(svc_linear_clf.predict(X_train), y_train)}\")\n",
        "print(f\"accuracy score on test sample = {accuracy_score(svc_linear_clf.predict(X_test), y_test)}\\n\")\n",
        "\n",
        "print(classification_report(y_test, y_predict_svc))"
      ],
      "metadata": {
        "colab": {
          "base_uri": "https://localhost:8080/"
        },
        "id": "2dA_17WARtF4",
        "outputId": "a2a69067-0442-4fdf-8e60-92791ff0cb18"
      },
      "execution_count": null,
      "outputs": [
        {
          "output_type": "stream",
          "name": "stdout",
          "text": [
            "accuracy score on training sample = 1.0\n",
            "accuracy score on test sample = 1.0\n",
            "\n",
            "              precision    recall  f1-score   support\n",
            "\n",
            "           0       1.00      1.00      1.00        57\n",
            "           1       1.00      1.00      1.00       202\n",
            "           2       1.00      1.00      1.00       103\n",
            "           3       1.00      1.00      1.00        11\n",
            "\n",
            "    accuracy                           1.00       373\n",
            "   macro avg       1.00      1.00      1.00       373\n",
            "weighted avg       1.00      1.00      1.00       373\n",
            "\n"
          ]
        }
      ]
    },
    {
      "cell_type": "code",
      "source": [
        "# Візуалізуємо оцінку метода за допомогою Confusion Matrix\n",
        "matrix_train=ConfusionMatrixDisplay.from_estimator(svc_linear_clf, X_train, y_train, normalize='true')\n",
        "matrix_test=ConfusionMatrixDisplay.from_estimator(svc_linear_clf, X_test, y_test, normalize='true')"
      ],
      "metadata": {
        "colab": {
          "base_uri": "https://localhost:8080/",
          "height": 893
        },
        "id": "Q3uhc4UvSGKN",
        "outputId": "2aa05f78-7c0f-482f-a8a2-6a5e0852e548"
      },
      "execution_count": null,
      "outputs": [
        {
          "output_type": "display_data",
          "data": {
            "text/plain": [
              "<Figure size 640x480 with 2 Axes>"
            ],
            "image/png": "[encoded data removed]"
          },
          "metadata": {}
        },
        {
          "output_type": "display_data",
          "data": {
            "text/plain": [
              "<Figure size 640x480 with 2 Axes>"
            ],
            "image/png": "[encoded data removed]"
          },
          "metadata": {}
        }
      ]
    },
    {
      "cell_type": "code",
      "source": [
        "# Застосовуємо метод SVM для тренування моделі з використанням Радіально базисної функції ядра (RBF)\n",
        "svc_rbf_clf = SVC(kernel='rbf', random_state=42)\n",
        "svc_rbf_clf.fit(X_train, y_train)\n",
        "\n",
        "y_predict_svc_rbf = svc_rbf_clf.predict(X_test)\n",
        "\n",
        "print(f\"accuracy score on training sample = {accuracy_score(svc_rbf_clf.predict(X_train), y_train)}\")\n",
        "print(f\"accuracy score on test sample = {accuracy_score(svc_rbf_clf.predict(X_test), y_test)}\\n\")\n",
        "\n",
        "print(classification_report(y_test, y_predict_svc_rbf))"
      ],
      "metadata": {
        "colab": {
          "base_uri": "https://localhost:8080/"
        },
        "id": "ywy4Qa2oShUg",
        "outputId": "ab86e78f-ba84-48bd-d677-6a2f5db504df"
      },
      "execution_count": null,
      "outputs": [
        {
          "output_type": "stream",
          "name": "stdout",
          "text": [
            "accuracy score on training sample = 0.9993297587131368\n",
            "accuracy score on test sample = 0.9973190348525469\n",
            "\n",
            "              precision    recall  f1-score   support\n",
            "\n",
            "           0       1.00      0.98      0.99        57\n",
            "           1       1.00      1.00      1.00       202\n",
            "           2       1.00      1.00      1.00       103\n",
            "           3       1.00      1.00      1.00        11\n",
            "\n",
            "    accuracy                           1.00       373\n",
            "   macro avg       1.00      1.00      1.00       373\n",
            "weighted avg       1.00      1.00      1.00       373\n",
            "\n"
          ]
        }
      ]
    },
    {
      "cell_type": "code",
      "source": [
        "# Візуалізуємо оцінку метода за допомогою Confusion Matrix\n",
        "matrix_train=ConfusionMatrixDisplay.from_estimator(svc_rbf_clf, X_train, y_train, normalize='true')\n",
        "matrix_test=ConfusionMatrixDisplay.from_estimator(svc_rbf_clf, X_test, y_test, normalize='true')"
      ],
      "metadata": {
        "colab": {
          "base_uri": "https://localhost:8080/",
          "height": 893
        },
        "id": "UZ1JFG0OTcom",
        "outputId": "16019c8e-54a7-4c5f-91f4-86be22cc456e"
      },
      "execution_count": null,
      "outputs": [
        {
          "output_type": "display_data",
          "data": {
            "text/plain": [
              "<Figure size 640x480 with 2 Axes>"
            ],
            "image/png": "[encoded data removed]"
          },
          "metadata": {}
        },
        {
          "output_type": "display_data",
          "data": {
            "text/plain": [
              "<Figure size 640x480 with 2 Axes>"
            ],
            "image/png": "[encoded data removed]"
          },
          "metadata": {}
        }
      ]
    },
    {
      "cell_type": "code",
      "source": [
        "# Робимо тренування, прогноз та оцінку за допомогою методу Дерева рішень RandomForestClassifier\n",
        "rand_forrest_clf = RandomForestClassifier(n_estimators=100, random_state=42)\n",
        "rand_forrest_clf.fit(X_train, y_train)\n",
        "\n",
        "y_predict_rand_forest = rand_forrest_clf.predict(X_test)\n",
        "\n",
        "print(f\"accuracy score on training sample = {accuracy_score(rand_forrest_clf.predict(X_train), y_train)}\")\n",
        "print(f\"accuracy score on test sample = {accuracy_score(rand_forrest_clf.predict(X_test), y_test)}\\n\")\n",
        "\n",
        "print(classification_report(y_test, y_predict_rand_forest))"
      ],
      "metadata": {
        "colab": {
          "base_uri": "https://localhost:8080/"
        },
        "id": "uuT9CWJWTpqO",
        "outputId": "4f2945e4-4248-44f6-c2c6-43355f2d832f"
      },
      "execution_count": null,
      "outputs": [
        {
          "output_type": "stream",
          "name": "stdout",
          "text": [
            "accuracy score on training sample = 1.0\n",
            "accuracy score on test sample = 1.0\n",
            "\n",
            "              precision    recall  f1-score   support\n",
            "\n",
            "           0       1.00      1.00      1.00        57\n",
            "           1       1.00      1.00      1.00       202\n",
            "           2       1.00      1.00      1.00       103\n",
            "           3       1.00      1.00      1.00        11\n",
            "\n",
            "    accuracy                           1.00       373\n",
            "   macro avg       1.00      1.00      1.00       373\n",
            "weighted avg       1.00      1.00      1.00       373\n",
            "\n"
          ]
        }
      ]
    },
    {
      "cell_type": "code",
      "source": [
        "# Візуалізуємо оцінку метода за допомогою Confusion Matrix\n",
        "matrix_train=ConfusionMatrixDisplay.from_estimator(rand_forrest_clf, X_train, y_train, normalize='true')\n",
        "matrix_test=ConfusionMatrixDisplay.from_estimator(rand_forrest_clf, X_test, y_test, normalize='true')"
      ],
      "metadata": {
        "colab": {
          "base_uri": "https://localhost:8080/",
          "height": 893
        },
        "id": "2EIpBTYtT_V6",
        "outputId": "73eb9335-c678-4714-912b-0be51c250e37"
      },
      "execution_count": null,
      "outputs": [
        {
          "output_type": "display_data",
          "data": {
            "text/plain": [
              "<Figure size 640x480 with 2 Axes>"
            ],
            "image/png": "[encoded data removed]"
          },
          "metadata": {}
        },
        {
          "output_type": "display_data",
          "data": {
            "text/plain": [
              "<Figure size 640x480 with 2 Axes>"
            ],
            "image/png": "[encoded data removed]"
          },
          "metadata": {}
        }
      ]
    },
    {
      "cell_type": "markdown",
      "source": [
        "Отже, можна зробити такі висновки:\n",
        "- Висока Загальна Точність: Усі моделі показали дуже високу загальну точність, що свідчить про їхню здатність ефективно класифікувати активності на основі даних акселерометра.\n",
        "- Висока Точність по Класах: Моделі показали високі значення precision та recall для більшості класів, особливо для \"idle\", \"running\" та \"walking\"."
      ],
      "metadata": {
        "id": "ds60khlAUKX7"
      }
    }
  ]
}